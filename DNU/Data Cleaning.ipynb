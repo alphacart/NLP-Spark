{
 "cells": [
  {
   "cell_type": "code",
   "execution_count": 1,
   "metadata": {},
   "outputs": [],
   "source": [
    "import pandas as pd\n",
    "# Import and Initialize Sentiment Analyzer\n",
    "from vaderSentiment.vaderSentiment import SentimentIntensityAnalyzer\n",
    "analyzer = SentimentIntensityAnalyzer()\n",
    "\n",
    "from unidecode import unidecode\n",
    "import os"
   ]
  },
  {
   "cell_type": "code",
   "execution_count": 2,
   "metadata": {},
   "outputs": [],
   "source": [
    "# Create a reference the CSV file desired\n",
    "csv_path = \"training.1600000.processed.noemoticon.csv\"\n",
    "\n",
    "# Read the CSV into a Pandas DataFrame\n",
    "df = pd.read_csv(csv_path,encoding = \"ISO-8859-1\",index_col=False,  \n",
    "                  names = [\"sentiment\", \"ID\", \"date\",\"flag\", \"user\",\"text\"])\n"
   ]
  },
  {
   "cell_type": "code",
   "execution_count": 3,
   "metadata": {},
   "outputs": [
    {
     "data": {
      "text/html": [
       "<div>\n",
       "<style scoped>\n",
       "    .dataframe tbody tr th:only-of-type {\n",
       "        vertical-align: middle;\n",
       "    }\n",
       "\n",
       "    .dataframe tbody tr th {\n",
       "        vertical-align: top;\n",
       "    }\n",
       "\n",
       "    .dataframe thead th {\n",
       "        text-align: right;\n",
       "    }\n",
       "</style>\n",
       "<table border=\"1\" class=\"dataframe\">\n",
       "  <thead>\n",
       "    <tr style=\"text-align: right;\">\n",
       "      <th></th>\n",
       "      <th>sentiment</th>\n",
       "      <th>ID</th>\n",
       "      <th>date</th>\n",
       "      <th>flag</th>\n",
       "      <th>user</th>\n",
       "      <th>text</th>\n",
       "    </tr>\n",
       "  </thead>\n",
       "  <tbody>\n",
       "    <tr>\n",
       "      <th>0</th>\n",
       "      <td>0</td>\n",
       "      <td>1467810369</td>\n",
       "      <td>Mon Apr 06 22:19:45 PDT 2009</td>\n",
       "      <td>NO_QUERY</td>\n",
       "      <td>_TheSpecialOne_</td>\n",
       "      <td>@switchfoot http://twitpic.com/2y1zl - Awww, t...</td>\n",
       "    </tr>\n",
       "    <tr>\n",
       "      <th>1</th>\n",
       "      <td>0</td>\n",
       "      <td>1467810672</td>\n",
       "      <td>Mon Apr 06 22:19:49 PDT 2009</td>\n",
       "      <td>NO_QUERY</td>\n",
       "      <td>scotthamilton</td>\n",
       "      <td>is upset that he can't update his Facebook by ...</td>\n",
       "    </tr>\n",
       "    <tr>\n",
       "      <th>2</th>\n",
       "      <td>0</td>\n",
       "      <td>1467810917</td>\n",
       "      <td>Mon Apr 06 22:19:53 PDT 2009</td>\n",
       "      <td>NO_QUERY</td>\n",
       "      <td>mattycus</td>\n",
       "      <td>@Kenichan I dived many times for the ball. Man...</td>\n",
       "    </tr>\n",
       "    <tr>\n",
       "      <th>3</th>\n",
       "      <td>0</td>\n",
       "      <td>1467811184</td>\n",
       "      <td>Mon Apr 06 22:19:57 PDT 2009</td>\n",
       "      <td>NO_QUERY</td>\n",
       "      <td>ElleCTF</td>\n",
       "      <td>my whole body feels itchy and like its on fire</td>\n",
       "    </tr>\n",
       "    <tr>\n",
       "      <th>4</th>\n",
       "      <td>0</td>\n",
       "      <td>1467811193</td>\n",
       "      <td>Mon Apr 06 22:19:57 PDT 2009</td>\n",
       "      <td>NO_QUERY</td>\n",
       "      <td>Karoli</td>\n",
       "      <td>@nationwideclass no, it's not behaving at all....</td>\n",
       "    </tr>\n",
       "  </tbody>\n",
       "</table>\n",
       "</div>"
      ],
      "text/plain": [
       "   sentiment          ID                          date      flag  \\\n",
       "0          0  1467810369  Mon Apr 06 22:19:45 PDT 2009  NO_QUERY   \n",
       "1          0  1467810672  Mon Apr 06 22:19:49 PDT 2009  NO_QUERY   \n",
       "2          0  1467810917  Mon Apr 06 22:19:53 PDT 2009  NO_QUERY   \n",
       "3          0  1467811184  Mon Apr 06 22:19:57 PDT 2009  NO_QUERY   \n",
       "4          0  1467811193  Mon Apr 06 22:19:57 PDT 2009  NO_QUERY   \n",
       "\n",
       "              user                                               text  \n",
       "0  _TheSpecialOne_  @switchfoot http://twitpic.com/2y1zl - Awww, t...  \n",
       "1    scotthamilton  is upset that he can't update his Facebook by ...  \n",
       "2         mattycus  @Kenichan I dived many times for the ball. Man...  \n",
       "3          ElleCTF    my whole body feels itchy and like its on fire   \n",
       "4           Karoli  @nationwideclass no, it's not behaving at all....  "
      ]
     },
     "execution_count": 3,
     "metadata": {},
     "output_type": "execute_result"
    }
   ],
   "source": [
    "df.head()"
   ]
  },
  {
   "cell_type": "code",
   "execution_count": 4,
   "metadata": {},
   "outputs": [
    {
     "data": {
      "text/html": [
       "<div>\n",
       "<style scoped>\n",
       "    .dataframe tbody tr th:only-of-type {\n",
       "        vertical-align: middle;\n",
       "    }\n",
       "\n",
       "    .dataframe tbody tr th {\n",
       "        vertical-align: top;\n",
       "    }\n",
       "\n",
       "    .dataframe thead th {\n",
       "        text-align: right;\n",
       "    }\n",
       "</style>\n",
       "<table border=\"1\" class=\"dataframe\">\n",
       "  <thead>\n",
       "    <tr style=\"text-align: right;\">\n",
       "      <th></th>\n",
       "      <th>text</th>\n",
       "      <th>sentiment</th>\n",
       "    </tr>\n",
       "  </thead>\n",
       "  <tbody>\n",
       "    <tr>\n",
       "      <th>0</th>\n",
       "      <td>@switchfoot http://twitpic.com/2y1zl - Awww, t...</td>\n",
       "      <td>0</td>\n",
       "    </tr>\n",
       "    <tr>\n",
       "      <th>1</th>\n",
       "      <td>is upset that he can't update his Facebook by ...</td>\n",
       "      <td>0</td>\n",
       "    </tr>\n",
       "    <tr>\n",
       "      <th>2</th>\n",
       "      <td>@Kenichan I dived many times for the ball. Man...</td>\n",
       "      <td>0</td>\n",
       "    </tr>\n",
       "    <tr>\n",
       "      <th>3</th>\n",
       "      <td>my whole body feels itchy and like its on fire</td>\n",
       "      <td>0</td>\n",
       "    </tr>\n",
       "    <tr>\n",
       "      <th>4</th>\n",
       "      <td>@nationwideclass no, it's not behaving at all....</td>\n",
       "      <td>0</td>\n",
       "    </tr>\n",
       "  </tbody>\n",
       "</table>\n",
       "</div>"
      ],
      "text/plain": [
       "                                                text  sentiment\n",
       "0  @switchfoot http://twitpic.com/2y1zl - Awww, t...          0\n",
       "1  is upset that he can't update his Facebook by ...          0\n",
       "2  @Kenichan I dived many times for the ball. Man...          0\n",
       "3    my whole body feels itchy and like its on fire           0\n",
       "4  @nationwideclass no, it's not behaving at all....          0"
      ]
     },
     "execution_count": 4,
     "metadata": {},
     "output_type": "execute_result"
    }
   ],
   "source": [
    "text=df[['text','sentiment']]\n",
    "text.head()"
   ]
  },
  {
   "cell_type": "code",
   "execution_count": 17,
   "metadata": {},
   "outputs": [
    {
     "data": {
      "text/html": [
       "<div>\n",
       "<style scoped>\n",
       "    .dataframe tbody tr th:only-of-type {\n",
       "        vertical-align: middle;\n",
       "    }\n",
       "\n",
       "    .dataframe tbody tr th {\n",
       "        vertical-align: top;\n",
       "    }\n",
       "\n",
       "    .dataframe thead th {\n",
       "        text-align: right;\n",
       "    }\n",
       "</style>\n",
       "<table border=\"1\" class=\"dataframe\">\n",
       "  <thead>\n",
       "    <tr style=\"text-align: right;\">\n",
       "      <th></th>\n",
       "      <th>text</th>\n",
       "      <th>sentiment</th>\n",
       "    </tr>\n",
       "  </thead>\n",
       "  <tbody>\n",
       "    <tr>\n",
       "      <th>453607</th>\n",
       "      <td>Why am I still hopeful when I know the chances...</td>\n",
       "      <td>0</td>\n",
       "    </tr>\n",
       "    <tr>\n",
       "      <th>187254</th>\n",
       "      <td>auch my wrist! it hurts me so much!!</td>\n",
       "      <td>0</td>\n",
       "    </tr>\n",
       "    <tr>\n",
       "      <th>175483</th>\n",
       "      <td>stoped broadcasting on blogtv coz they all lef...</td>\n",
       "      <td>0</td>\n",
       "    </tr>\n",
       "    <tr>\n",
       "      <th>1017604</th>\n",
       "      <td>@Iyarchuleta I'm good  Been missing Twittervil...</td>\n",
       "      <td>4</td>\n",
       "    </tr>\n",
       "    <tr>\n",
       "      <th>1521411</th>\n",
       "      <td>Oh My Word. It slipped my mind that Gemmas bab...</td>\n",
       "      <td>4</td>\n",
       "    </tr>\n",
       "  </tbody>\n",
       "</table>\n",
       "</div>"
      ],
      "text/plain": [
       "                                                      text  sentiment\n",
       "453607   Why am I still hopeful when I know the chances...          0\n",
       "187254               auch my wrist! it hurts me so much!!           0\n",
       "175483   stoped broadcasting on blogtv coz they all lef...          0\n",
       "1017604  @Iyarchuleta I'm good  Been missing Twittervil...          4\n",
       "1521411  Oh My Word. It slipped my mind that Gemmas bab...          4"
      ]
     },
     "execution_count": 17,
     "metadata": {},
     "output_type": "execute_result"
    }
   ],
   "source": [
    "## Reduce size of the dataframe since our local machine can't handle processing larger files frac=0.015\n",
    "\n",
    "results_df2 = text.sample(frac=0.002)\n",
    "results_df2.head()"
   ]
  },
  {
   "cell_type": "code",
   "execution_count": 18,
   "metadata": {},
   "outputs": [
    {
     "data": {
      "text/html": [
       "<div>\n",
       "<style scoped>\n",
       "    .dataframe tbody tr th:only-of-type {\n",
       "        vertical-align: middle;\n",
       "    }\n",
       "\n",
       "    .dataframe tbody tr th {\n",
       "        vertical-align: top;\n",
       "    }\n",
       "\n",
       "    .dataframe thead th {\n",
       "        text-align: right;\n",
       "    }\n",
       "</style>\n",
       "<table border=\"1\" class=\"dataframe\">\n",
       "  <thead>\n",
       "    <tr style=\"text-align: right;\">\n",
       "      <th></th>\n",
       "      <th>text</th>\n",
       "      <th>sentiment</th>\n",
       "      <th>original</th>\n",
       "    </tr>\n",
       "  </thead>\n",
       "  <tbody>\n",
       "    <tr>\n",
       "      <th>453607</th>\n",
       "      <td>Why am I still hopeful when I know the chances...</td>\n",
       "      <td>0</td>\n",
       "      <td>negative</td>\n",
       "    </tr>\n",
       "    <tr>\n",
       "      <th>187254</th>\n",
       "      <td>auch my wrist! it hurts me so much!!</td>\n",
       "      <td>0</td>\n",
       "      <td>negative</td>\n",
       "    </tr>\n",
       "    <tr>\n",
       "      <th>175483</th>\n",
       "      <td>stoped broadcasting on blogtv coz they all lef...</td>\n",
       "      <td>0</td>\n",
       "      <td>negative</td>\n",
       "    </tr>\n",
       "    <tr>\n",
       "      <th>1017604</th>\n",
       "      <td>@Iyarchuleta I'm good  Been missing Twittervil...</td>\n",
       "      <td>4</td>\n",
       "      <td>positive</td>\n",
       "    </tr>\n",
       "    <tr>\n",
       "      <th>1521411</th>\n",
       "      <td>Oh My Word. It slipped my mind that Gemmas bab...</td>\n",
       "      <td>4</td>\n",
       "      <td>positive</td>\n",
       "    </tr>\n",
       "  </tbody>\n",
       "</table>\n",
       "</div>"
      ],
      "text/plain": [
       "                                                      text  sentiment  \\\n",
       "453607   Why am I still hopeful when I know the chances...          0   \n",
       "187254               auch my wrist! it hurts me so much!!           0   \n",
       "175483   stoped broadcasting on blogtv coz they all lef...          0   \n",
       "1017604  @Iyarchuleta I'm good  Been missing Twittervil...          4   \n",
       "1521411  Oh My Word. It slipped my mind that Gemmas bab...          4   \n",
       "\n",
       "         original  \n",
       "453607   negative  \n",
       "187254   negative  \n",
       "175483   negative  \n",
       "1017604  positive  \n",
       "1521411  positive  "
      ]
     },
     "execution_count": 18,
     "metadata": {},
     "output_type": "execute_result"
    }
   ],
   "source": [
    "# Add class column that contains string as classifier ( we will need this later for StringIndexer)\n",
    "results_df2.loc[results_df2['sentiment'] == 0, 'original'] = 'negative'\n",
    "results_df2.loc[results_df2['sentiment'] == 3, 'original'] = 'neutral'\n",
    "results_df2.loc[results_df2['sentiment'] == 4, 'original'] = 'positive'\n",
    "results_df2.head()"
   ]
  },
  {
   "cell_type": "code",
   "execution_count": 19,
   "metadata": {},
   "outputs": [
    {
     "data": {
      "text/plain": [
       "3200"
      ]
     },
     "execution_count": 19,
     "metadata": {},
     "output_type": "execute_result"
    }
   ],
   "source": [
    "len(results_df2)  "
   ]
  },
  {
   "cell_type": "code",
   "execution_count": 20,
   "metadata": {},
   "outputs": [],
   "source": [
    "## Export as CSV to upload to model script\n",
    "output_path = os.path.join('CSV_cleaned', 'tweets_sample2.csv')\n",
    "results_df2.to_csv(output_path, index=False, header=True)"
   ]
  },
  {
   "cell_type": "code",
   "execution_count": null,
   "metadata": {},
   "outputs": [],
   "source": [
    "######Further analysis on data########"
   ]
  },
  {
   "cell_type": "code",
   "execution_count": null,
   "metadata": {},
   "outputs": [],
   "source": [
    "# Run Vader analysis List to hold results\n",
    "results_list = []\n",
    "\n",
    "\n",
    "# Loop through all target users\n",
    "for (idx, row) in text.iterrows():\n",
    "    \n",
    "\n",
    "    # Variables for holding sentiments\n",
    "    compound_list = []\n",
    "    positive_list = []\n",
    "    negative_list = []\n",
    "    neutral_list = []\n",
    "\n",
    "    \n",
    "  \n",
    "    results = analyzer.polarity_scores(row[\"text\"])\n",
    "    compound = results[\"compound\"]\n",
    "    pos = results[\"pos\"]\n",
    "    neu = results[\"neu\"]\n",
    "    neg = results[\"neg\"]\n",
    "\n",
    "    # Add each value to the appropriate list\n",
    "    compound_list.append(compound)\n",
    "    positive_list.append(pos)\n",
    "    negative_list.append(neg)\n",
    "    neutral_list.append(neu)\n",
    "                \n",
    "           \n",
    "\n",
    "    # Store the Average Sentiments\n",
    "    sentiment = {\n",
    "        \"tweet\": row[\"text\"],\n",
    "        \"Compound\": compound,\n",
    "        \"Positive\": pos,\n",
    "        \"Neutral\": neg,\n",
    "        \"Negative\": neu,\n",
    "        'original':row[\"sentiment\"],\n",
    "        \n",
    "    }\n",
    "\n",
    "#     # Print the Sentiments\n",
    "#     print(sentiment)\n",
    "#     print()\n",
    "    \n",
    "    # Append airline results to 'results_list'\n",
    "    results_list.append(sentiment)"
   ]
  },
  {
   "cell_type": "code",
   "execution_count": null,
   "metadata": {},
   "outputs": [],
   "source": [
    "results_df = pd.DataFrame(results_list).set_index(\"tweet\").round(3)\n",
    "results_df.reset_index(level=0, inplace=True)\n",
    "results_df.head()"
   ]
  },
  {
   "cell_type": "code",
   "execution_count": null,
   "metadata": {},
   "outputs": [],
   "source": [
    "results_df2= results_df[[\"tweet\",\"original\"]]\n",
    "results_df2.head()"
   ]
  },
  {
   "cell_type": "code",
   "execution_count": null,
   "metadata": {},
   "outputs": [],
   "source": [
    "# results_df2.loc[results_df2['original'] == 0, 'original2'] = 'negative'\n",
    "# results_df2.loc[results_df2['original'] == 3, 'original2'] = 'neutral'\n",
    "# results_df2.loc[results_df2['original'] == 4, 'original2'] = 'positive'\n",
    "# results_df2.head()"
   ]
  },
  {
   "cell_type": "code",
   "execution_count": null,
   "metadata": {},
   "outputs": [],
   "source": [
    "grouped=results_df2.groupby(\"original2\")\n",
    "\n",
    "mean=grouped.mean()\n",
    "mean"
   ]
  },
  {
   "cell_type": "code",
   "execution_count": null,
   "metadata": {},
   "outputs": [],
   "source": [
    "## Export measure_df_clean file as a CSV, without the Pandas index, but with the header\n",
    "output_path = os.path.join('CSV_cleaned', 'tweets_clean3.csv')\n",
    "results_df2.to_csv(output_path, index=False, header=True)"
   ]
  },
  {
   "cell_type": "code",
   "execution_count": null,
   "metadata": {},
   "outputs": [],
   "source": [
    "# Get length of each tweet\n",
    "results_df['length'] = results_df['tweet'].apply(len)\n",
    "results_df.head()"
   ]
  },
  {
   "cell_type": "code",
   "execution_count": null,
   "metadata": {},
   "outputs": [],
   "source": []
  },
  {
   "cell_type": "code",
   "execution_count": null,
   "metadata": {},
   "outputs": [],
   "source": [
    "## tokenize tweets and create function so that @-mentions, emoticons, URLs and #hash-tags are not recognised as single tokens.\n",
    "\n",
    "import re\n",
    " \n",
    "emoticons_str = r\"\"\"\n",
    "    (?:\n",
    "        [:=;] # Eyes\n",
    "        [oO\\-]? # Nose (optional)\n",
    "        [D\\)\\]\\(\\]/\\\\OpP] # Mouth\n",
    "    )\"\"\"\n",
    " \n",
    "regex_str = [\n",
    "    emoticons_str,\n",
    "    r'<[^>]+>', # HTML tags\n",
    "    r'(?:@[\\w_]+)', # @-mentions\n",
    "    r\"(?:\\#+[\\w_]+[\\w\\'_\\-]*[\\w_]+)\", # hash-tags\n",
    "    r'http[s]?://(?:[a-z]|[0-9]|[$-_@.&amp;+]|[!*\\(\\),]|(?:%[0-9a-f][0-9a-f]))+', # URLs\n",
    " \n",
    "    r'(?:(?:\\d+,?)+(?:\\.?\\d+)?)', # numbers\n",
    "    r\"(?:[a-z][a-z'\\-_]+[a-z])\", # words with - and '\n",
    "    r'(?:[\\w_]+)', # other words\n",
    "    r'(?:\\S)' # anything else\n",
    "]\n",
    "    \n",
    "tokens_re = re.compile(r'('+'|'.join(regex_str)+')', re.VERBOSE | re.IGNORECASE)\n",
    "emoticon_re = re.compile(r'^'+emoticons_str+'$', re.VERBOSE | re.IGNORECASE)\n",
    " \n",
    "def tokenize(s):\n",
    "    return tokens_re.findall(s)\n",
    " \n",
    "def preprocess(s, lowercase=False):\n",
    "    tokens = tokenize(s)\n",
    "    if lowercase:\n",
    "        tokens = [token if emoticon_re.search(token) else token.lower() for token in tokens]\n",
    "    return tokens\n",
    " \n"
   ]
  },
  {
   "cell_type": "code",
   "execution_count": null,
   "metadata": {},
   "outputs": [],
   "source": [
    "## create new column with tokenized tweets\n",
    "results_df['tokenized']=results_df['tweet'].apply(preprocess)"
   ]
  },
  {
   "cell_type": "code",
   "execution_count": null,
   "metadata": {},
   "outputs": [],
   "source": [
    "results_df.head()"
   ]
  },
  {
   "cell_type": "code",
   "execution_count": null,
   "metadata": {},
   "outputs": [],
   "source": []
  },
  {
   "cell_type": "code",
   "execution_count": null,
   "metadata": {},
   "outputs": [],
   "source": [
    "# show average legth of tweet by original rating 0=negative, 4=positive\n",
    "\n",
    "grouped=results_df.groupby(\"original\")\n",
    "\n",
    "mean=grouped.mean()\n",
    "mean"
   ]
  },
  {
   "cell_type": "code",
   "execution_count": null,
   "metadata": {},
   "outputs": [],
   "source": [
    "# show average legth of tweet by compound rating\n",
    "grouped2=results_df.groupby(\"Compound\")\n",
    "\n",
    "mean2=grouped2.mean()\n",
    "mean2.reset_index(level=0, inplace=True)\n",
    "mean2.head()"
   ]
  },
  {
   "cell_type": "code",
   "execution_count": null,
   "metadata": {},
   "outputs": [],
   "source": [
    "# plot reuslts\n",
    "import matplotlib.pyplot as plt\n",
    "\n",
    "plt.plot(mean2[\"length\"],  mean2[\"Compound\"], color=\"red\", label=\"Original\")\n",
    "\n",
    "# plt.plot(  mean2[\"Compound\"],mean2[\"length\"], color=\"red\", label=\"Original\")\n"
   ]
  },
  {
   "cell_type": "code",
   "execution_count": null,
   "metadata": {},
   "outputs": [],
   "source": [
    "## Export measure_df_clean file as a CSV, without the Pandas index, but with the header\n",
    "output_path = os.path.join('CSV_cleaned', 'tweets_clean.csv')\n",
    "results_df.to_csv(output_path, index=False, header=True)"
   ]
  },
  {
   "cell_type": "code",
   "execution_count": null,
   "metadata": {},
   "outputs": [],
   "source": [
    "#reduce df for plotting\n",
    "results_df2 = results_df.sample(frac=0.00005)\n",
    "results_df2.head()"
   ]
  },
  {
   "cell_type": "code",
   "execution_count": null,
   "metadata": {},
   "outputs": [],
   "source": []
  },
  {
   "cell_type": "code",
   "execution_count": null,
   "metadata": {},
   "outputs": [],
   "source": [
    "results_df2.reset_index(level=0, inplace=True)\n",
    "results_df2.reset_index(level=0, inplace=True)\n",
    "results_df2.head()"
   ]
  },
  {
   "cell_type": "code",
   "execution_count": null,
   "metadata": {},
   "outputs": [],
   "source": []
  },
  {
   "cell_type": "code",
   "execution_count": null,
   "metadata": {},
   "outputs": [],
   "source": [
    "## Fit the scale of original sp its comparable to Vader analysis results\n",
    "# results_df2['ori']= '0'\n",
    "# results_df2['ori'][results_df['original'] = 1] = '-1'\n",
    "# results_df2['ori'][results_df['original'] = 3] = '1'\n",
    "# results_df2\n",
    "\n",
    "results_df2.loc[results_df2['original'] == 0, 'ori'] = '-1.0'\n",
    "results_df2.loc[results_df2['original'] == 3, 'ori'] = '0.0'\n",
    "results_df2.loc[results_df2['original'] == 4, 'ori'] = '1.0'\n",
    "results_df2.head()"
   ]
  },
  {
   "cell_type": "code",
   "execution_count": null,
   "metadata": {},
   "outputs": [],
   "source": [
    "results_df2['length'] = results_df2['tweet'].apply(len)\n",
    "results_df2.head()"
   ]
  },
  {
   "cell_type": "code",
   "execution_count": null,
   "metadata": {},
   "outputs": [],
   "source": [
    "import matplotlib.pyplot as plt\n",
    "\n",
    "\n",
    "plt.scatter(results_df2[\"level_0\"], pd.to_numeric(results_df2.ori, errors='coerce'), color=\"red\", label=\"Original\")\n",
    "plt.scatter(results_df2[\"level_0\"], results_df2[\"Compound\"], color=\"blue\",alpha=0.5, label=\"Vader\")\n",
    "\n",
    "\n",
    "# plt.plot(results_df2[\"level_0\"],  pd.to_numeric(results_df2.ori, errors='coerce'), color=\"red\", label=\"Original\")\n",
    "# plt.plot(results_df2[\"level_0\"], results_df2[\"Compound\"], color=\"blue\" ,alpha=0.5, label=\"Vader\")\n",
    "# plt.scatter(results_df2[\"level_0\"],  pd.to_numeric(results_df2.ori, errors='coerce'), color=\"red\", label=\"Original\")\n",
    "\n",
    "\n",
    "# plt.title(f\"Sentiment Analysis of Tweets ({now}) for {target_user}\")\n",
    "# plt.ylim(10,-10) #Bonus\n",
    "# plt.ylabel(\"Tweet Polarity\")\n",
    "# plt.xlabel(\"Tweets Ago\")\n",
    "## create Legend and place outside of graph\n",
    "plt.legend(bbox_to_anchor=(1.05, 1), loc=2, borderaxespad=0.)\n",
    "\n",
    "plt.show()\n",
    "plt.style.use('seaborn')"
   ]
  },
  {
   "cell_type": "code",
   "execution_count": null,
   "metadata": {},
   "outputs": [],
   "source": [
    "grouped=results_df2.groupby(\"original\")\n",
    "\n",
    "mean=grouped.mean()\n",
    "mean"
   ]
  },
  {
   "cell_type": "code",
   "execution_count": null,
   "metadata": {},
   "outputs": [],
   "source": [
    "grouped2=results_df2.groupby(\"length\")\n",
    "\n",
    "mean2=grouped2.mean()\n",
    "mean2"
   ]
  },
  {
   "cell_type": "code",
   "execution_count": null,
   "metadata": {},
   "outputs": [],
   "source": [
    "# import numpy as np\n",
    "# users = results_df[\"ori\"]\n",
    "# labels = results_df[\"ori\"]\n",
    "# x_axis = np.arange(len(users))\n",
    "# # Users is our y axis and x_axis is, of course, our x axis\n",
    "# plt.bar(x_axis, users, color='r', alpha=0.5,\n",
    "#         tick_label=labels)\n",
    "\n",
    "# plt.show()"
   ]
  },
  {
   "cell_type": "code",
   "execution_count": null,
   "metadata": {},
   "outputs": [],
   "source": [
    "# Export measure_df_clean file as a CSV, without the Pandas index, but with the header\n",
    "output_path = os.path.join('CSV_cleaned_test', 'tweets_clean.csv')\n",
    "measure_df_clean.to_csv(output_path, index=False, header=True)\n",
    "\n",
    "# # Export measure_df_clean file as a CSV, without the Pandas index, but with the header\n",
    "# output_path = os.path.join('CSV_cleaned', 'tweets_clean.csv')\n",
    "# measure_df_clean.to_csv(output_path, index=False, header=True)"
   ]
  },
  {
   "cell_type": "code",
   "execution_count": null,
   "metadata": {},
   "outputs": [],
   "source": [
    "# # WORKS List to hold results\n",
    "# results_list = []\n",
    "\n",
    "\n",
    "# # Loop through all target users\n",
    "# for (idx, row) in text.iterrows():\n",
    "    \n",
    "\n",
    "#     # Variables for holding sentiments\n",
    "#     compound_list = []\n",
    "#     positive_list = []\n",
    "#     negative_list = []\n",
    "#     neutral_list = []\n",
    "\n",
    "    \n",
    "  \n",
    "#     results = analyzer.polarity_scores(row[\"text\"])\n",
    "#     compound = results[\"compound\"]\n",
    "#     pos = results[\"pos\"]\n",
    "#     neu = results[\"neu\"]\n",
    "#     neg = results[\"neg\"]\n",
    "\n",
    "#     # Add each value to the appropriate list\n",
    "#     compound_list.append(compound)\n",
    "#     positive_list.append(pos)\n",
    "#     negative_list.append(neg)\n",
    "#     neutral_list.append(neu)\n",
    "                \n",
    "           \n",
    "\n",
    "#     # Store the Average Sentiments\n",
    "#     sentiment = {\n",
    "#         \"tweet\": row[\"text\"],\n",
    "#         \"Compound\": compound_list,\n",
    "#         \"Positive\": positive_list,\n",
    "#         \"Neutral\": negative_list,\n",
    "#         \"Negative\": neutral_list,\n",
    "#         'original':row[\"sentiment\"],\n",
    "        \n",
    "#     }\n",
    "\n",
    "# #     # Print the Sentiments\n",
    "# #     print(sentiment)\n",
    "# #     print()\n",
    "    \n",
    "#     # Append airline results to 'results_list'\n",
    "#     results_list.append(sentiment)"
   ]
  }
 ],
 "metadata": {
  "kernelspec": {
   "display_name": "Python 3",
   "language": "python",
   "name": "python3"
  },
  "language_info": {
   "codemirror_mode": {
    "name": "ipython",
    "version": 3
   },
   "file_extension": ".py",
   "mimetype": "text/x-python",
   "name": "python",
   "nbconvert_exporter": "python",
   "pygments_lexer": "ipython3",
   "version": "3.6.4"
  }
 },
 "nbformat": 4,
 "nbformat_minor": 2
}
